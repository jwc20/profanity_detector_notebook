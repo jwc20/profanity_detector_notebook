{
 "cells": [
  {
   "cell_type": "code",
   "execution_count": 2,
   "metadata": {},
   "outputs": [],
   "source": [
    "import json\n",
    "from pprint import pprint\n",
    "\n",
    "# import os\n",
    "# from typing import List, Optional, Set, Tuple\n",
    "\n",
    "# import regex\n",
    "\n",
    "from datetime import datetime\n"
   ]
  },
  {
   "cell_type": "code",
   "execution_count": 3,
   "metadata": {},
   "outputs": [
    {
     "name": "stdout",
     "output_type": "stream",
     "text": [
      "{'channel_name': 'sodapoppin',\n",
      " 'chat_message': \"sodaH Chance's official merch store: \"\n",
      "                 'https://www.sodapoppin.shop/ | Support: '\n",
      "                 'sodapoppin@teespring.com',\n",
      " 'is_toxic': True,\n",
      " 'preprocessed_chat_message': 'sodah chance official merch store '\n",
      "                              'httpswwwsodapoppinshop support '\n",
      "                              'sodapoppinteespringcom',\n",
      " 'timestamp': '2023-09-02T00:00:21.115239',\n",
      " 'username': 'fossabot',\n",
      " 'vw_toxicity_score': 0.484907}\n"
     ]
    }
   ],
   "source": [
    "with open(\"../../vowpal_wabbit/vw_toxic_chat_2023-09-03_11-09.json\", \"r\") as f:\n",
    "    data = json.load(f)\n",
    "    pprint(data[0])\n",
    "\n",
    "    # print only the username and chat_message\n",
    "    for i in range(len(data)):\n",
    "        print(data[i][\"username\"], data[i][\"chat_message\"])\n",
    "        "
   ]
  },
  {
   "cell_type": "code",
   "execution_count": 4,
   "metadata": {},
   "outputs": [],
   "source": [
    "from toxicity import ToxicityList "
   ]
  },
  {
   "cell_type": "code",
   "execution_count": 7,
   "metadata": {},
   "outputs": [
    {
     "name": "stdout",
     "output_type": "stream",
     "text": [
      "thcvortex   5 minutes of ads!?!?! WHAT THE FUCK TWITCH\n",
      "default_guy77   @yung_gab_ sodaNo , he is da slut sodaSmirk\n",
      "tiodacombi   yea stfu chat\n",
      "sovietchina1   he's fucking trolling OMEGALUL\n",
      "aquaberrybackfist   holy shit\n",
      "paleblueboink   Dumbass head dent BALD\n",
      "vikitorusss   pepeMeltdown FUCKING RUN\n",
      "skool_   what a shit show\n",
      "volkeb   FUCK THEM UP\n",
      "k3lw11   cant even 1v1 a ranger this dumb ass lacari\n",
      "dayzisgarbage   did lacari fuck up again\n",
      "tunacan_man   oh shit\n",
      "og_plumwick   holy fuck its a cycle man INSANECAT\n",
      "the_mrx_   free shit hmm\n",
      "lacari   im so fucking BAD\n",
      "crazytan_01   @Lacari fuck you, i'm addicted to holocure and its all your fault ReallyMad\n",
      "gayforcandy   that is the stash of a fucking battered man\n",
      "frenchbussybestbussy   I'm horny too, down to fuck dude ?\n",
      "bowazanda   any hot dudes wanna fuck or what?\n",
      "captainuhhredemption   Sodomy chat?\n",
      "pale_al   piss cum shit ass tiddy fuck\n",
      "malarchyy   FUCKING POTHEADS\n",
      "churchmilfs   UHM ddlg shit\n",
      "supr3m3prim3   DUDE STFU LACARI\n",
      "crazytan_01   dude shut the fuck up\n",
      "locusquo   fuck those spiders\n",
      "mumbojumbogumbo   absolute dog shit stats\n",
      "nitefallin   @paleysium Unless your shit is really good or your underselling your shit no LUL\n",
      "heinousanus95   Lacs morale is dogshit right now. Poor guy\n",
      "hede888   TwaT\n",
      "nightabsm   it does sound like an abusive foster parent or some shit OMEGALUL\n",
      "kelemvoruber   lacari cant loot anything big? my cock woul be left behind SadChamp\n",
      "cuff_d   @kelemvoruber u want lac to take ur dick?\n",
      "soap_v   OH SHIT\n",
      "heinousanus95   @bonash people with crhonic pain jackass\n",
      "splyntr_   OH FUCK\n",
      "36\n"
     ]
    }
   ],
   "source": [
    "# print toxicities of a first chat message\n",
    "\n",
    "toxicity_list = ToxicityList([\"../../eng_Latn_twl.txt\"])\n",
    "toxic_list = []\n",
    "\n",
    "for line in data:\n",
    "    # print(line['chat_message'])    \n",
    "    # print toxicity of a first chat message\n",
    "    \n",
    "    if toxicity_list.toxicity_count(line['chat_message']) > 0:\n",
    "        print(line[\"username\"], \" \", line['chat_message'])\n",
    "        toxic_list.append(line)\n",
    "  \n",
    "# print(len(toxic_list), toxic_list )       \n",
    "# export above to a json file\n",
    "filename = 't200_toxic_chat_' + datetime.now().strftime(\"%Y-%m-%d_%H-%M\") + '.json'\n",
    "with open(filename, 'w') as f:\n",
    "    print(len(toxic_list))\n",
    "    json.dump(toxic_list, f, indent=4)"
   ]
  },
  {
   "cell_type": "code",
   "execution_count": null,
   "metadata": {},
   "outputs": [],
   "source": []
  }
 ],
 "metadata": {
  "kernelspec": {
   "display_name": "Python 3",
   "language": "python",
   "name": "python3"
  },
  "language_info": {
   "codemirror_mode": {
    "name": "ipython",
    "version": 3
   },
   "file_extension": ".py",
   "mimetype": "text/x-python",
   "name": "python",
   "nbconvert_exporter": "python",
   "pygments_lexer": "ipython3",
   "version": "3.11.4"
  },
  "orig_nbformat": 4
 },
 "nbformat": 4,
 "nbformat_minor": 2
}
