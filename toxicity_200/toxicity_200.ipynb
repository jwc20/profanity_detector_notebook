{
 "cells": [
  {
   "cell_type": "code",
   "execution_count": 46,
   "metadata": {},
   "outputs": [],
   "source": [
    "import json\n",
    "from pprint import pprint\n",
    "\n",
    "# import os\n",
    "# from typing import List, Optional, Set, Tuple\n",
    "\n",
    "# import regex\n",
    "\n",
    "from datetime import datetime\n"
   ]
  },
  {
   "cell_type": "code",
   "execution_count": 47,
   "metadata": {},
   "outputs": [
    {
     "name": "stdout",
     "output_type": "stream",
     "text": [
      "{'channel_name': 'sodapoppin',\n",
      " 'chat_message': 'ante*',\n",
      " 'is_toxic': False,\n",
      " 'preprocessed_chat_message': 'ante',\n",
      " 'timestamp': '2023-09-02T00:00:01.867916',\n",
      " 'username': 'blakelol',\n",
      " 'vw_toxicity_score': 0.538338}\n"
     ]
    }
   ],
   "source": [
    "with open(\"../chat_2023-09-03_10-32.json\", \"r\") as f:\n",
    "    data = json.load(f)\n",
    "    pprint(data[0])\n",
    "    "
   ]
  },
  {
   "cell_type": "code",
   "execution_count": 48,
   "metadata": {},
   "outputs": [],
   "source": [
    "from toxicity import ToxicityList "
   ]
  },
  {
   "cell_type": "code",
   "execution_count": 49,
   "metadata": {},
   "outputs": [
    {
     "name": "stdout",
     "output_type": "stream",
     "text": [
      "thcvortex   5 minutes of ads!?!?! WHAT THE FUCK TWITCH\n",
      "default_guy77   @yung_gab_ sodaNo , he is da slut sodaSmirk\n",
      "tiodacombi   yea stfu chat\n",
      "sovietchina1   he's fucking trolling OMEGALUL\n",
      "aquaberrybackfist   holy shit\n",
      "paleblueboink   Dumbass head dent BALD\n",
      "admiral_nugget   run you fools!\n",
      "vikitorusss   pepeMeltdown FUCKING RUN\n",
      "skool_   what a shit show\n",
      "volkeb   FUCK THEM UP\n",
      "krottos   wtf is thos trol tank doing\n",
      "k3lw11   cant even 1v1 a ranger this dumb ass lacari\n",
      "dayzisgarbage   did lacari fuck up again\n",
      "raceoplasma   They both sneeze weird wtf\n",
      "tunacan_man   oh shit\n",
      "og_plumwick   holy fuck its a cycle man INSANECAT\n",
      "halfaxan   Just get a high dmg weapon and a shitty dagger\n",
      "the_mrx_   free shit hmm\n",
      "lacari   im so fucking BAD\n",
      "lacari   FUCKL\n",
      "crazytan_01   @Lacari fuck you, i'm addicted to holocure and its all your fault ReallyMad\n",
      "gayforcandy   that is the stash of a fucking battered man\n",
      "pattiiiiiiii   so much troll cum\n",
      "femboyelect   benjyvrSip cum\n",
      "aglassofbourbon   LookUp wtf\n",
      "dudeihateyousomuch   i'd drink the troll cum\n",
      "pale_al   you know whats great about chat is i can say ill drink all the cum. cum cum cum cum.\n",
      "captainuhhredemption   Man, am I horny\n",
      "frenchbussybestbussy   I'm horny too, down to fuck dude ?\n",
      "bowazanda   any hot dudes wanna fuck or what?\n",
      "captainuhhredemption   Sodomy chat?\n",
      "groinsalami   nobody cares how horny you guys are UHMM\n",
      "pale_al   piss cum shit ass tiddy fuck\n",
      "groinsalami   @captainuhhredemption, indeed, go be horny in dms\n",
      "hardstileraver   Jackass lac\n",
      "pale_al   one guyd by an idiot like me LULW\n",
      "malarchyy   FUCKING POTHEADS\n",
      "mauwii87   313 fuk freewlrld\n",
      "k3lw11   grown ass man\n",
      "churchmilfs   UHM ddlg shit\n",
      "supr3m3prim3   DUDE STFU LACARI\n",
      "bulletparry   DIESOFCRINGE grown ass man\n",
      "crazytan_01   dude shut the fuck up\n",
      "k3lw11   DIESOFCRINGE 30 year old grown ass man\n",
      "thesnoopydog   wtf is this please\n",
      "hideonpupusas   grown ass men buhing in chat\n",
      "locusquo   fuck those spiders\n",
      "1swagkat   wtf Spoogers\n",
      "tropicalshark   i LOVE pussy\n",
      "gayforcandy   they poop\n",
      "bulletparry   WICKED fucking shutterstock image cats will never have power\n",
      "mumbojumbogumbo   absolute dog shit stats\n",
      "the_mrx_   wtf is physical healing?\n",
      "gigatoadsageofhell   DICKHEAD OMEGALUL2\n",
      "paleblueboink   Douchebag\n",
      "javich14   Jackass douchebag\n",
      "tranpellets   Wtf Lacari, be nice\n",
      "nitefallin   @paleysium Unless your shit is really good or your underselling your shit no LUL\n",
      "bogusny   @GroinSalami, yeah i'd rather watch that shit probably\n",
      "bulletparry   GIGACHAD he's not the poop barb like you lac\n",
      "hideonpupusas   vei is faded than a hoe\n",
      "heinousanus95   Lacs morale is dogshit right now. Poor guy\n",
      "huntakilla   Willy Wanker HUH\n",
      "hede888   TwaT\n",
      "nightabsm   it does sound like an abusive foster parent or some shit OMEGALUL\n",
      "jadespherem   uuh hobbit ass name\n",
      "kelemvoruber   lacari cant loot anything big? my cock woul be left behind SadChamp\n",
      "cuff_d   @kelemvoruber u want lac to take ur dick?\n",
      "soap_v   OH SHIT\n",
      "heinousanus95   @bonash people with crhonic pain jackass\n",
      "splyntr_   OH FUCK\n",
      "nobanarino   veiD jackass\n",
      "iduckbro   Pointless wtf man\n",
      "imbaelfire   take the booty\n"
     ]
    }
   ],
   "source": [
    "# print toxicities of a first chat message\n",
    "\n",
    "toxicity_list = ToxicityList([\"../eng_Latn_twl.txt\"])\n",
    "toxic_list = []\n",
    "\n",
    "for line in data:\n",
    "    # print(line['chat_message'])    \n",
    "    # print toxicity of a first chat message\n",
    "    \n",
    "    if toxicity_list.toxicity_count(line['chat_message']) > 0:\n",
    "        print(line[\"username\"], \" \", line['chat_message'])\n",
    "        toxic_list.append(line)\n",
    "  \n",
    "# print(len(toxic_list), toxic_list )       \n",
    "# export above to a json file\n",
    "filename = 'toxic_chat_' + datetime.now().strftime(\"%Y-%m-%d_%H-%M\") + '.json'\n",
    "with open(filename, 'w') as f:\n",
    "    json.dump(toxic_list, f, indent=4)\n",
    "    "
   ]
  },
  {
   "cell_type": "code",
   "execution_count": null,
   "metadata": {},
   "outputs": [],
   "source": []
  }
 ],
 "metadata": {
  "kernelspec": {
   "display_name": "Python 3",
   "language": "python",
   "name": "python3"
  },
  "language_info": {
   "codemirror_mode": {
    "name": "ipython",
    "version": 3
   },
   "file_extension": ".py",
   "mimetype": "text/x-python",
   "name": "python",
   "nbconvert_exporter": "python",
   "pygments_lexer": "ipython3",
   "version": "3.11.4"
  },
  "orig_nbformat": 4
 },
 "nbformat": 4,
 "nbformat_minor": 2
}
